{
 "metadata": {
  "kernelspec": {
   "display_name": "Python 3",
   "language": "python",
   "name": "python3"
  },
  "language_info": {
   "codemirror_mode": {
    "name": "ipython",
    "version": 3
   },
   "file_extension": ".py",
   "mimetype": "text/x-python",
   "name": "python",
   "nbconvert_exporter": "python",
   "pygments_lexer": "ipython3",
   "version": "3.7.3"
  },
  "toc": {
   "nav_menu": {},
   "number_sections": true,
   "sideBar": true,
   "skip_h1_title": false,
   "toc_cell": false,
   "toc_position": {},
   "toc_section_display": "block",
   "toc_window_display": false
  },
  "varInspector": {
   "cols": {
    "lenName": 16,
    "lenType": 16,
    "lenVar": 40
   },
   "kernels_config": {
    "python": {
     "delete_cmd_postfix": "",
     "delete_cmd_prefix": "del ",
     "library": "var_list.py",
     "varRefreshCmd": "print(var_dic_list())"
    },
    "r": {
     "delete_cmd_postfix": ") ",
     "delete_cmd_prefix": "rm(",
     "library": "var_list.r",
     "varRefreshCmd": "cat(var_dic_list()) "
    }
   },
   "types_to_exclude": [
    "module",
    "function",
    "builtin_function_or_method",
    "instance",
    "_Feature"
   ],
   "window_display": false
  },
  "colab": {
   "name": "INFO357 HW2.ipynb",
   "provenance": [],
   "collapsed_sections": []
  },
  "lastEditStatus": {
   "notebookId": "wwv2pvppewyse3ctpado",
   "authorId": "260037273388",
   "authorName": "JGUNNING",
   "authorEmail": "jgunning@xactlycorp.com",
   "sessionId": "4b529609-a862-4fe2-bb24-4c1bce1b5955",
   "lastEditTime": 1742698219612
  }
 },
 "nbformat_minor": 0,
 "nbformat": 4,
 "cells": [
  {
   "cell_type": "markdown",
   "metadata": {
    "id": "c8XmscnPcz1V",
    "name": "cell1"
   },
   "source": [
    "* __Instructions__\n",
    "\n",
    "\n",
    "    * Add your code as indicated in each cell.\n",
    "\n",
    "\n",
    "    * Besides adding your code, do not alter this file.\n",
    "\n",
    "    \n",
    "    * Rename the file as firstname_lastname_exerciseid.ipynb (e.g., marina_johnson_e1.ipynb)\n",
    "\n",
    "\n",
    "    * Only submit .ipynb files (no .py files)"
   ],
   "id": "ce110000-1111-2222-3333-ffffff000000"
  },
  {
   "cell_type": "markdown",
   "metadata": {
    "id": "u3Gos9Z5cz1a",
    "name": "cell2"
   },
   "source": [
    "# Question 1"
   ],
   "id": "ce110000-1111-2222-3333-ffffff000001"
  },
  {
   "cell_type": "markdown",
   "metadata": {
    "collapsed": true,
    "id": "Dr41y4qWcz1b",
    "name": "cell3"
   },
   "source": [
    "1. For the given list below (i.e., mylist), split the list into two lists. One list should only contain numbers. The other one should only have strings."
   ],
   "id": "ce110000-1111-2222-3333-ffffff000002"
  },
  {
   "cell_type": "code",
   "execution_count": 1,
   "metadata": {
    "colab": {
     "base_uri": "https://localhost:8080/"
    },
    "id": "blAUhiSucz1c",
    "outputId": "3e8b9307-0142-4655-a956-f1ca2cdd451e",
    "name": "cell4",
    "language": "python"
   },
   "outputs": [
    {
     "output_type": "stream",
     "name": "stdout",
     "text": [
      "['Mobile', 'Laptop', 'Camera', 'Speakers', 'Television', 'Laptop Case', 'Camera Lens'] [100, 310.28, 27.0, 1000]\n"
     ]
    }
   ],
   "source": [
    "['Mobile','Laptop',100,'Camera',310.28,'Speakers',27.00,'Television',1000,'Laptop Case','Camera Lens']\n",
    "mylist =  ['Mobile', 'Laptop', 100, 'Camera', 310.28, 'Speakers', 27.00, \n",
    "           'Television', 1000, 'Laptop Case', 'Camera Lens'] # do not change this\n",
    "\n",
    "string_list =  [i for i in mylist if(type(i)==str)]\n",
    "\n",
    "number_list =  [i for i in mylist if(type(i)!=str)]\n",
    "\n",
    "print(string_list, number_list) # do not change this"
   ],
   "id": "ce110000-1111-2222-3333-ffffff000003"
  },
  {
   "cell_type": "markdown",
   "metadata": {
    "id": "lB02S2fScz1d",
    "name": "cell5"
   },
   "source": [
    "# Question 2"
   ],
   "id": "ce110000-1111-2222-3333-ffffff000004"
  },
  {
   "cell_type": "markdown",
   "metadata": {
    "id": "LFxxwjxKcz1e",
    "name": "cell6"
   },
   "source": [
    "1. For the given dictionary below, remove the key and value pairs if value is more than 600. So your code should give {'PLAYSTATION': 500, 'SMART WATCH': 550, 'TABLET': 400} "
   ],
   "id": "ce110000-1111-2222-3333-ffffff000005"
  },
  {
   "cell_type": "code",
   "execution_count": 8,
   "metadata": {
    "colab": {
     "base_uri": "https://localhost:8080/"
    },
    "id": "AcsN0fgOcz1f",
    "outputId": "cfbaaed3-50c3-4be8-c864-bc626ae150a4",
    "name": "cell7",
    "language": "python"
   },
   "outputs": [
    {
     "output_type": "stream",
     "name": "stdout",
     "text": [
      "{'SMART WATCH': 550, 'PLAYSTATION': 500, 'TABLET': 400}\n"
     ]
    }
   ],
   "source": [
    "products = {'SMART WATCH': 550,'PHONE' : 1000, 'PLAYSTATION': 500, 'LAPTOP' : 1550, \n",
    "            'MUSIC PLAYER' : 600, 'TABLET' : 400} # do not change this\n",
    "\n",
    "products_less_than_600 = {} # do not change this\n",
    "\n",
    "for i in products:\n",
    "    #checking if the value of a product is less than 600\n",
    "    if(products[i]<600):\n",
    "        #adding it to products_less_than_600 list\n",
    "        products_less_than_600[i]=products[i]\n",
    "\n",
    "        \n",
    "print(products_less_than_600) # do not change this"
   ],
   "id": "ce110000-1111-2222-3333-ffffff000006"
  },
  {
   "cell_type": "markdown",
   "metadata": {
    "id": "oXhv9gcncz1g",
    "name": "cell8"
   },
   "source": [
    "# Exercise 3"
   ],
   "id": "ce110000-1111-2222-3333-ffffff000007"
  },
  {
   "cell_type": "markdown",
   "metadata": {
    "collapsed": true,
    "id": "veOrVElRcz1g",
    "name": "cell9"
   },
   "source": [
    "1. For a given list that contains both numbers and characters, write a function that will only consider numbers  and find the average of all the numbers. Do not hard code the function."
   ],
   "id": "ce110000-1111-2222-3333-ffffff000008"
  },
  {
   "cell_type": "code",
   "execution_count": 6,
   "metadata": {
    "id": "Dg8Nmyw6cz1h",
    "name": "cell10",
    "language": "python"
   },
   "outputs": [],
   "source": [
    "def get_average(my_list):\n",
    "\n",
    "   def get_average(my_list):\n",
    "    total = 0\n",
    "    count = 0\n",
    "    for x in my_list:\n",
    "        if type(x)==float or type(x)==int:\n",
    "            total += x\n",
    "            count += 1\n",
    "    if count==0:\n",
    "        return None\n",
    "    else:\n",
    "        return total/count\n",
    "    \n",
    "    return"
   ],
   "id": "ce110000-1111-2222-3333-ffffff000009"
  },
  {
   "cell_type": "code",
   "execution_count": null,
   "metadata": {
    "id": "nU5dJV4qcz1i",
    "name": "cell11",
    "language": "python"
   },
   "outputs": [],
   "source": [
    "my_list = ['Athens', 'Berlin', '6726.5', 'Istanbul', 90.89, 67.83, 'New York', 76243.6, \n",
    "           'Beijing', 5032] # Do not change this\n",
    "\n",
    "print(get_average(my_list)) # Do not change this"
   ],
   "id": "ce110000-1111-2222-3333-ffffff000010"
  },
  {
   "cell_type": "markdown",
   "metadata": {
    "collapsed": true,
    "id": "4xGzeKi3cz1i",
    "name": "cell12"
   },
   "source": [
    "# Exercise 4"
   ],
   "id": "ce110000-1111-2222-3333-ffffff000011"
  },
  {
   "cell_type": "markdown",
   "metadata": {
    "collapsed": true,
    "id": "kzQtN6Uacz1j",
    "name": "cell13"
   },
   "source": [
    "1. Write code to find all numbers which are divisible by 7 but are not a multiple of 5 between 2000 and 3200 (both included). Then, take the average of these numbers"
   ],
   "id": "ce110000-1111-2222-3333-ffffff000012"
  },
  {
   "cell_type": "code",
   "execution_count": 7,
   "metadata": {
    "colab": {
     "base_uri": "https://localhost:8080/"
    },
    "id": "9t-e6-aMcz1j",
    "outputId": "bd64b832-d637-4c0c-d141-589d745d554d",
    "name": "cell14",
    "language": "python"
   },
   "outputs": [
    {
     "output_type": "stream",
     "name": "stdout",
     "text": [
      "[2002, 2009, 2016, 2023, 2037, 2044, 2051, 2058, 2072, 2079, 2086, 2093, 2107, 2114, 2121, 2128, 2142, 2149, 2156, 2163, 2177, 2184, 2191, 2198, 2212, 2219, 2226, 2233, 2247, 2254, 2261, 2268, 2282, 2289, 2296, 2303, 2317, 2324, 2331, 2338, 2352, 2359, 2366, 2373, 2387, 2394, 2401, 2408, 2422, 2429, 2436, 2443, 2457, 2464, 2471, 2478, 2492, 2499, 2506, 2513, 2527, 2534, 2541, 2548, 2562, 2569, 2576, 2583, 2597, 2604, 2611, 2618, 2632, 2639, 2646, 2653, 2667, 2674, 2681, 2688, 2702, 2709, 2716, 2723, 2737, 2744, 2751, 2758, 2772, 2779, 2786, 2793, 2807, 2814, 2821, 2828, 2842, 2849, 2856, 2863, 2877, 2884, 2891, 2898, 2912, 2919, 2926, 2933, 2947, 2954, 2961, 2968, 2982, 2989, 2996, 3003, 3017, 3024, 3031, 3038, 3052, 3059, 3066, 3073, 3087, 3094, 3101, 3108, 3122, 3129, 3136, 3143, 3157, 3164, 3171, 3178, 3192, 3199] \n",
      "\n",
      "average:  2598.7753623188405\n"
     ]
    }
   ],
   "source": [
    "divisible_7_multiple_5 = [] # do not change this\n",
    "\n",
    "for n in range(2000, 3201):\n",
    "    if n % 7 == 0 and n % 5 != 0:\n",
    "        divisible_7_multiple_5.append(n)\n",
    "        \n",
    "average = sum(divisible_7_multiple_5)/len(divisible_7_multiple_5) # do not change this\n",
    "\n",
    "print(divisible_7_multiple_5, '\\n') # do not change this\n",
    "\n",
    "print('average: ', average) # do not change this"
   ],
   "id": "ce110000-1111-2222-3333-ffffff000013"
  },
  {
   "cell_type": "code",
   "id": "c91c5ff1-c19d-48d4-bc5b-d853582c26c0",
   "metadata": {
    "language": "python",
    "name": "starting"
   },
   "outputs": [],
   "source": "import pandas as pd\n\ndf = pd.read_csv('Python Practice.csv')\n\n#df_x = pd.read_sql\n\nprint(df.head(10))\n\nprint(df[['NAME']])",
   "execution_count": null
  },
  {
   "cell_type": "code",
   "id": "c487d8f1-89d2-4d59-8333-f0e513d00937",
   "metadata": {
    "language": "python",
    "name": "Reading_Data_frame"
   },
   "outputs": [],
   "source": "# Columns\ndf.columns\n\n#print(df.head)\n#read each column\n#print(df[['OPPORTUNITY_ID','NAME', 'BOOKINGS_USD']][0:100])\n\n#reead each row \n#print(df.iloc[1:5])\n\n\n#reead specific location\n#print(df.iloc[2,1])\n\ndf.loc[df['NAME'] == 'Aaron Jelovic']\n\n \n",
   "execution_count": null
  },
  {
   "cell_type": "code",
   "id": "dbd01123-8093-4aa5-ab28-f973df63bfff",
   "metadata": {
    "language": "python",
    "name": "cell16"
   },
   "outputs": [],
   "source": "if 2+3 >1:\n print('Its finally time')",
   "execution_count": null
  },
  {
   "cell_type": "code",
   "id": "5bc8c2e4-0860-484f-8eb2-4586af825cbf",
   "metadata": {
    "language": "python",
    "name": "SORTING_DATA"
   },
   "outputs": [],
   "source": "#df.describe()\ndf.sort_values(['NAME', 'ORDER_TYPE'], ascending=False)\n\n#",
   "execution_count": null
  },
  {
   "cell_type": "code",
   "id": "853085bb-73da-4430-b65a-111dfaaec15e",
   "metadata": {
    "language": "python",
    "name": "Manipulating_fields"
   },
   "outputs": [],
   "source": "df['Adjusted_bookings'] = df['BOOKINGS_USD'] * 1.25\n#print(df.head(3))\n#print(df['Adjusted_bookings'])\ndf.head(8)\n\n\n#df = df.drop(columns= ['Adjusted_bookings'])\n\n",
   "execution_count": null
  },
  {
   "cell_type": "code",
   "id": "8d1b3c9e-5bea-4dca-a0f1-63e5a6b82f3a",
   "metadata": {
    "language": "python",
    "name": "Exporting"
   },
   "outputs": [],
   "source": "#df.to_csv('name')\n#df.to_excel('excelname')",
   "execution_count": null
  },
  {
   "cell_type": "code",
   "id": "bd22e783-200c-4ecd-9da0-36ad9a952cf9",
   "metadata": {
    "language": "python",
    "name": "Filtering"
   },
   "outputs": [],
   "source": "#or vs and and numbers \n\n#df.loc[(df['ORDER_TYPE'] == 'New') & (df['BUSINESS_TITLE'] == 'Account Executive')]\n\n#df.loc[(df['ORDER_TYPE'] == 'New') | (df['BUSINESS_TITLE'] == 'Account Executive')]\n\nnew_df = df.loc[(df['BOOKINGS_USD'] >= 100000)]\n\nnew_df.head(5)\n\n#new_df = new_df.reset_index( drop = True)\n\n#contains \n#df.loc[df['USER_ROLE'].str.contains('Sales')]\n\n#Not contains \n#df.loc[~df['USER_ROLE'].str.contains('Sales')]\n\n#Or contains \ndf.loc[~df['USER_ROLE'].str.contains('Sales|Roles')]",
   "execution_count": null
  },
  {
   "cell_type": "code",
   "id": "67482356-8431-4c47-bbc2-9f50602a3e89",
   "metadata": {
    "language": "python",
    "name": "Conditional_changes",
    "codeCollapsed": false
   },
   "outputs": [],
   "source": "df.loc[df['BOOKINGS_USD'] > 100000, 'CONSOLIDATED_ORDER_TYPE'] = 'Baller'\n\ndf.loc[df['BOOKINGS_USD'] < 100000, 'CONSOLIDATED_ORDER_TYPE'] = 'Non-Baller'\n\ndf.head(10)\n\n\n",
   "execution_count": null
  },
  {
   "cell_type": "code",
   "id": "9569c956-226a-4c1a-955d-543496292071",
   "metadata": {
    "language": "python",
    "name": "groupby"
   },
   "outputs": [],
   "source": "#df.groupby(['ORDER_TYPE']).sum()\n\n#user_df = df.loc[('NAME', 'BOOKINGS_USD')]\n\nuser_df = df.loc[:, ['NAME','ORDER_TYPE', 'BOOKINGS_USD']]\n\n\n\nuser_df.groupby(['NAME']).count()\n\nuser_df.head(10)\n\n",
   "execution_count": null
  },
  {
   "cell_type": "code",
   "id": "55a9f4f2-18d3-4e17-923d-6a0c67b3ecbe",
   "metadata": {
    "language": "sql",
    "name": "cell15"
   },
   "outputs": [],
   "source": "select * from WORKdAY_DEV.PUBLIC.JGPRACTICE2",
   "execution_count": null
  },
  {
   "cell_type": "code",
   "id": "33eb5d8a-a32f-4310-8ad9-50f7690c7b6c",
   "metadata": {
    "language": "python",
    "name": "Starting_sesion"
   },
   "outputs": [],
   "source": "from snowflake.snowpark.context import get_active_session\nsession = get_active_session()",
   "execution_count": null
  },
  {
   "cell_type": "code",
   "id": "b57d1d91-5d60-4ca1-a47a-03ba549f8ad8",
   "metadata": {
    "language": "python",
    "name": "cell17"
   },
   "outputs": [],
   "source": "sql_df = session.table(('WORKDAY_DEV.PUBLIC.JGPRACTICE2'))\n\nprint(sql_df)",
   "execution_count": null
  },
  {
   "cell_type": "code",
   "id": "f8c64f76-06e2-4939-99c4-18b934d615c1",
   "metadata": {
    "language": "python",
    "name": "cell19"
   },
   "outputs": [],
   "source": "#df['Adjusted_bookings'] = df['BOOKINGS_USD'] * 1.25\nsql_df['BOOKINGS'] = sql_df['BOOKINGS'] * 2",
   "execution_count": null
  },
  {
   "cell_type": "code",
   "id": "c4f5090d-9a0f-46fe-90bf-acf1b6e8ed1f",
   "metadata": {
    "language": "python",
    "name": "variables"
   },
   "outputs": [],
   "source": "x = 15\ny = 20\n\nprint (x + y)",
   "execution_count": null
  },
  {
   "cell_type": "code",
   "id": "68a4a451-ca20-41fd-aef3-902619a65592",
   "metadata": {
    "language": "python",
    "name": "Loops"
   },
   "outputs": [],
   "source": "list1 = ['Baller', 'Not_baller', 'With us', 'NICE']\nfor x in list1:\n    if x == 'NICE':\n     break\n    print(x)\n\n#print(list1)\n\n#thislist = list( (\"FALSE\", \"banana\", \"20\"))\n#print(thislist)\n\n#fruits = [\"apple\", \"banana\", \"cherry\"]\n#for x in fruits:\n    #if x == 'banana':\n   #  break\n   # print(x)\n\n",
   "execution_count": null
  },
  {
   "cell_type": "code",
   "id": "424b0189-c67a-4968-b253-3aaef77fe408",
   "metadata": {
    "language": "python",
    "name": "Ranges"
   },
   "outputs": [],
   "source": "for x in range(1,5):\n print(x)\nelse: \n 'Python gets you paid'",
   "execution_count": null
  },
  {
   "cell_type": "code",
   "id": "2111a3d4-6f39-41df-91e3-dcf50ee8f4e3",
   "metadata": {
    "language": "python",
    "name": "Loops_2"
   },
   "outputs": [],
   "source": "City = ['Montego Bay', 'Negril', 'Mandeville']\n\nCapital = ['St.James', 'Lucea', 'Manchester']\n\nfor x in City:\n    for y in Capital:\n        if x == 'Mandeville':\n            break\n            print(x,y)\nelse: \n    'Need more practice'",
   "execution_count": null
  },
  {
   "cell_type": "code",
   "id": "b0dcfa87-8de5-42e8-85ed-8b80da153136",
   "metadata": {
    "language": "python",
    "name": "lists_arrays",
    "codeCollapsed": false
   },
   "outputs": [],
   "source": "import numpy as np\n\ncars = ['BMW', 'Benz', 'Audi']\n\nx = cars[1]\n\nprint(x)\n\na = len(cars)\n\n#print(a)\n\n#print(cars)\n\ncars.append('Porsche')\n\nprint(cars)\n\na = len(cars)\n\nprint(a)\n\ncars.remove('Audi')\n\nprint(cars)\n\ncars.count(a)\n\n",
   "execution_count": null
  },
  {
   "cell_type": "code",
   "id": "06480c2c-ba94-45dd-b477-475ba9cbc22d",
   "metadata": {
    "language": "python",
    "name": "lIST"
   },
   "outputs": [],
   "source": "#countries_tuple = ('US', 'Canada', 'Mexico')\n\n#print(countries_tuple)\n\nca_list = ['SF', 'LA', 'SD']\n\n#print(ca_list)\n\n#city = ca_list[1]\n#print(city)\n\n#for city in ca_list:\n             #print(city)\n#else: \n    #'THIS aint working right'\n\nca_list.append(('GL'))\n\nprint(ca_list)\n\nca_list.sort()\n\nprint(ca_list)\n\nprint(ca_list.index('SF'))\n\nprint(ca_list.count('BAM'))\n\n",
   "execution_count": null
  },
  {
   "cell_type": "code",
   "id": "547d9ae0-7e80-4f91-b426-ba35a6013588",
   "metadata": {
    "language": "python",
    "name": "SET",
    "codeCollapsed": false
   },
   "outputs": [],
   "source": "#set is collection thats unorderde and imutbale add/reomve okay but no dupes\ncities = {'ROME', 'DARCIA', 'PARISUS'}\n\nprint(dir(cities))\n\nprint(len(cities))\n\ncities.add('Egypt')\n\nprint(cities)\n\ncities.pop()\n\nprint(cities)",
   "execution_count": null
  },
  {
   "cell_type": "code",
   "id": "b5dace65-23e6-4c46-ba7e-5191837a514c",
   "metadata": {
    "language": "python",
    "name": "Tuples"
   },
   "outputs": [],
   "source": "#ORdered, unchangleable, dupes, and faster then list\n\nprint(len(colors))\n#print(help(colors))\nprint('blue' in colors)\n\n#colors = ('red', 'blue', 'green')\n\n#print(colors.index('green'))\n\n#for color in colors:\n    #print(color)",
   "execution_count": null
  },
  {
   "cell_type": "code",
   "id": "85d49a1f-d378-4ef1-b2b9-6e3d77b0a65a",
   "metadata": {
    "language": "python",
    "name": "Dictonaries"
   },
   "outputs": [],
   "source": "#Orderded and changeable no dupes allowed",
   "execution_count": null
  },
  {
   "cell_type": "code",
   "id": "8f0241ba-c2cc-47bb-b9ce-dcf87ba03c1f",
   "metadata": {
    "language": "python",
    "name": "Mortgage_calc"
   },
   "outputs": [],
   "source": "import streamlit as st\nimport pandas as pd\nimport matplotlib.pyplot as plt\nimport math\n\nst.title(\"Loan Repayments Calculator\")\nst.sidebar.header(\"test\")\n\nst.info(\"Input your loans figures into each box and this app will calculate your monthly repayments and interest paid\")\nst.write(\"### Input Data\")\ncol1, col2 = st.columns(2)\nhome_value = col1.number_input(\"Purchase Value\", min_value=0, value=300000)\ndeposit = col1.number_input(\"Deposit\", min_value=0, value=100000)\ninterest_rate = col2.number_input(\"Interest Rate (in %)\", min_value=0.0, value=5.5)\nloan_term = col2.number_input(\"Loan Term (in years)\", min_value=1, value=30)\n\n# Calculate the repayments.\nloan_amount = home_value - deposit\nmonthly_interest_rate = (interest_rate / 100) / 12\nnumber_of_payments = loan_term * 12\nmonthly_payment = (\n    loan_amount\n    * (monthly_interest_rate * (1 + monthly_interest_rate) ** number_of_payments)\n    / ((1 + monthly_interest_rate) ** number_of_payments - 1)\n)\n\n# Display the repayments.\ntotal_payments = monthly_payment * number_of_payments\ntotal_interest = total_payments - loan_amount\n\nst.write(\"### Repayments\")\ncol1, col2, col3 = st.columns(3)\ncol1.metric(label=\"Monthly Repayments\", value=f\"${monthly_payment:,.2f}\")\ncol2.metric(label=\"Total Repayments\", value=f\"${total_payments:,.0f}\")\ncol3.metric(label=\"Total Interest\", value=f\"${total_interest:,.0f}\")\n\n\n# Create a data-frame with the payment schedule.\nschedule = []\nremaining_balance = loan_amount\n\nfor i in range(1, number_of_payments + 1):\n    interest_payment = remaining_balance * monthly_interest_rate\n    principal_payment = monthly_payment - interest_payment\n    remaining_balance -= principal_payment\n    year = math.ceil(i / 12)  # Calculate the year into the loan\n    schedule.append(\n        [\n            i,\n            monthly_payment,\n            principal_payment,\n            interest_payment,\n            remaining_balance,\n            year,\n        ]\n    )\n\ndf = pd.DataFrame(\n    schedule,\n    columns=[\"Month\", \"Payment\", \"Principal\", \"Interest\", \"Remaining Balance\", \"Year\"],\n)\n\n# Display the data-frame as a chart.\nst.write(\"### Payment Schedule\")\npayments_df = df[[\"Year\", \"Remaining Balance\"]].groupby(\"Year\").min()\nst.line_chart(payments_df)",
   "execution_count": null
  },
  {
   "cell_type": "code",
   "id": "2e630b54-219b-43d7-aeb9-db26a560266c",
   "metadata": {
    "language": "python",
    "name": "streamlit"
   },
   "outputs": [],
   "source": "import streamlit as st\nimport pandas as pd\nimport numpy as np\nimport math \n\n\nst.title('Jermit Gunning Loan Calc Python App')\nst.write(\"\")\nx = st.text_input('What model car?')\n#df = pd.read_csv(\"Streamlit sa.csv\")\n#st.write(f\"Your car is: {x}\")\n#button = st.button('Button')\ncol1, col2 = st.columns(2)\ncar_value = col1.number_input(\"Car Value\", min_value=0, value = 1000000)\ndeposit = col1.number_input(\"Deposit\", min_value=0, value = 10000000)\ninterest_rate =  col2.number_input(\"interest_rate (in %)\", min_value=0.0, value=25.0)\nloan_term =  col2.number_input(\"Loan Term (in years)\", min_value=1, value=10)\ndata = pd.read_csv(\"Streamlit sa.csv\")\n#st.write(data)\n\n\n###Math portion \nloan_amount = car_value - deposit\nmonthly_interest_rate= (interest_rate/100)/ 12\nnumber_of_payments = loan_term * 12\nmonthly_payment = ( \n    loan_amount\n    *(monthly_interest_rate *(1 + monthly_interest_rate) **number_of_payments)\n    / ((1 * monthly_interest_rate) ** number_of_payments -1)\n)\n\n#display the repayments \ntotal_payments = monthly_payment = number_of_payments\ntotal_interest = total_payments - loan_amount\n\nst.write(\"### Repayments\")\ncol1, col2, col3 = st.columns(3)\ncol1.metric(label=\"Total Repayments\", value=f\"${monthly_payment:,.2F}\")\ncol2.metric(label=\"Monthly Interest\", value=f\"${total_payments:,.0f}\")\ncol3.metric(label=\"Total Interest\", value=f\"${total_interest:,.0f} \")\n\n\n\n#CReate a data frame with payment schdedule\nschedule = []\nremaining_balance = loan_amount\n\nfor i in range(1,number_of_payments + 1):\n    interest_payment = remaining_balance * monthly_interest_rate\n    principal_payment = monthly_payment - interest_payment\n    remaining_balance -= principal_payment\n    year = math.ceil(i/12) #calculate year into loan \n    schedule.append(\n        [\n            i,\n            monthly_payment,\n            principal_payment, \n            interest_payment, \n            remaining_balance, \n            year,\n        ]\n    )\n\nloan_df = pd.DataFrame(\n    schedule, \n    columns = [\"Month\", \"Payment\", \"Principal\", \"Interest\",\"Remaining Balance\", \"Year\"],\n)\n\n#Display data frame as a chart \nst.write(\"Payments Schedule\")\nfinal_df = loan_df[[\"Year\", \"Remaining Balance\"]].groupby(\"Year\").min()\nst.line_chart(final_df)\n\n\n\n\n\n#chart_data = pd.DataFrame (\n    #np.random.randn(20,3),\n    #columns = [\"a\", \"b\", \"c\"]\n#)\n\n#chart = pd.DataFrame('Streamlit sa.csv')\n\n#st.write(chart_data)\n\n#st.bar_chart(chart_data)\n\n",
   "execution_count": null
  },
  {
   "cell_type": "code",
   "id": "53a2c612-a151-48f0-8424-9fb3de08598b",
   "metadata": {
    "language": "python",
    "name": "Car_picker"
   },
   "outputs": [],
   "source": "import streamlit as st\nimport pandas as pd\nimport numpy as np\nimport math \n\n\nprimaryColor=\"#1e8449\"\nbackgroundColor=\"#f7f9f9\"\nsecondaryBackgroundColor=\"#F0F2F6\"\ntextColor=\"#31333F\"\nfont=\"sans serif\"\n\n\nst.title('Jermit Gunning: Desinging the perfect car Python App')\nst.header(\"Fill in the attributes to make your perfect car\")\nx = st.text_input('Choose your Car name')\n#df = pd.read_csv(\"Streamlit sa.csv\")\nst.header(f\"{x}: Now that you have a name lets choose a powertrain\")\ncol1,col2,col3 = st.columns(3)\nbutton = col1.button('Naturally Aspirated V12')\nbutton1 = col2.button('Hybrid Turbo V6')\nbutton2 = col3.button('Triple Electric Motors')\ny = button\nst.header(\"Okay now lets pic some attributes for your car\")\n###Columns\ncol1, col2 = st.columns(2)\nTop_speed= col1.number_input(\"Power\", min_value=0, max_value = 100)\nAcceleration = col1.number_input(\"Acceleration\", min_value=0, max_value = 100)\nHandling = col2.number_input(\"Handling\", min_value=0, max_value = 100)\nWeight =  col2.number_input(\"Weight\", min_value=1000, value=3000, max_value=5000)\n#st.slider(\"How\", min_value=1, value=1, max_value=10)\nCar_score = Top_speed + Acceleration + Handling\navg_car_score = Car_score/3\nreliability = range(10)\nQuarter_Mile = (((Weight /10) - 50)/ 2) + (avg_car_score -13)\nzerotosixty =  ((((Acceleration * 100) + Weight) /1000) / .75) / 4\n\n#st.header('Car scoring')\n#col1 = st.columns(1)\n#Avg_score = col1.car_score\n#st.write(avg_car_score)\n#st.write(reliability)\n\ncol1, col2,col3 = st.columns(3)\ncol1.metric(label=\"Overall Score\", value=f\"{avg_car_score:,.2F}\")\n#col2.metric(label=\"Average Annual repair cost\", value=f\"${1000:,.0f}\")\ncol2.metric(label=\"0-60 Time\", value=f\"{zerotosixty:,.2F}\")\ncol3.metric(label=\"Top Speed MPH\", value=f\"{Quarter_Mile:,.2F}\")\n\n\n\nsentiment_mapping = [\":material/thumb_down:\", \":material/thumb_up:\"]\nselected = st.feedback(\"thumbs\")\nif selected is not None:\n    st.markdown(f\"You selected: {sentiment_mapping[selected]}\")\n\n\n\ndata = pd.read_csv(\"Streamlit sa.csv\")\n#st.write(data)",
   "execution_count": null
  },
  {
   "cell_type": "code",
   "id": "02dd0457-2ea8-47ab-bd75-5f78162d762c",
   "metadata": {
    "language": "python",
    "name": "Sanjana_draft",
    "codeCollapsed": false
   },
   "outputs": [],
   "source": "#st.header(\"Sanjana Draft\")\n#st.write(\"This could be a big skill for you to learn\")\n#st.write(\"Some of Sanjana's top skills\")\n#col1,col2,col3 = st.columns(3)\n#button = col1.button('Excel')\n#button1 = col2.button('SQL')\n#button2 = col3.button('Tableau')",
   "execution_count": null
  },
  {
   "cell_type": "code",
   "id": "5ea730ba-7239-44c6-b705-347c8a2b6d09",
   "metadata": {
    "language": "python",
    "name": "Reading_PDF"
   },
   "outputs": [],
   "source": "import pypdf\nimport pandas as pd \n\nif __name__ == \"__main__\":\n    read_pdf = pypdf.PdfReader(\"agentforce-implementation-guide-pdf.pdf\")\n\nprint(len(read_pdf.pages))\n\npage = read_pdf.pages[0]\n\nprint(page.extract_text())\n\ndf = print(page.extract_text())\n\nprint(df)\n",
   "execution_count": null
  },
  {
   "cell_type": "code",
   "id": "61b190fe-58bd-443f-86d1-5fceb4c210f9",
   "metadata": {
    "language": "python",
    "name": "Extracting_Table_From_PDF"
   },
   "outputs": [],
   "source": "import pdfplumber\nimport pypdf\nimport streamlit as st\n\n\nwith  pdfplumber.open(\"ast_sci_data_tables_sample.pdf\") as pdf: \n    first_page = pdf.pages[0]\n    tables = first_page.extract_table()\n    print(tables)\n\n#header=0)\ndf = tables\n\n#print(df.head(1))\n\nst.table(df)\n\n#st.line_chart(df)\n\n#df.rename(columns = df.iloc[0])\n",
   "execution_count": null
  },
  {
   "cell_type": "code",
   "id": "5bbad06f-bdeb-4a52-92d2-9e67265e57f4",
   "metadata": {
    "language": "python",
    "name": "APIS"
   },
   "outputs": [],
   "source": "import requests\n\nhttp://api.marketstack.com/v1/eod\n    access_key = \"193c2b21df5e5fe79799e26ee1a551fa\"",
   "execution_count": null
  },
  {
   "cell_type": "code",
   "id": "39906f82-63cb-4861-868b-7ed5a72446d6",
   "metadata": {
    "language": "python",
    "name": "NEw_App"
   },
   "outputs": [],
   "source": "import streamlit as st \n\n\nheight = 600\nTitle = \"Test Bot\"\nicon =\":robot:\"\n\nst.header(\"Chatbot UI\")\n\n",
   "execution_count": null
  },
  {
   "cell_type": "code",
   "id": "7ac7a276-2549-4979-9e53-229829890e5c",
   "metadata": {
    "language": "python",
    "name": "cell18"
   },
   "outputs": [],
   "source": "\n from io import BytesIO\n from reportlab.pdfgen import canvas\n from reportlab.lib.pagesizes import letter\n from pdf2image import convert_from_bytes\n \n # Helper function to create a PDF with text\n def create_pdf(text):\n @@ -108,22 +107,11 @@ def decrypt_pdf(pdf_file, password):\n     buffer.seek(0)\n     return buffer\n \n # Helper function to extract images from PDF\n def extract_images(pdf_file):\n     images = convert_from_bytes(pdf_file.read())\n     image_buffers = []\n     for i, image in enumerate(images):\n         buffer = BytesIO()\n         image.save(buffer, format=\"PNG\")\n         buffer.seek(0)\n         image_buffers.append(buffer)\n     return image_buffers\n \n def main():\n     st.title(\"PDF Editor Tool\")\n \n     menu = [\"Create PDF\", \"Extract Text\", \"Merge PDFs\", \"Split PDF\", \"Rotate PDF\", \n             \"Add Watermark\", \"Encrypt PDF\", \"Decrypt PDF\", \"Extract Images\"]\n             \"Add Watermark\", \"Encrypt PDF\", \"Decrypt PDF\"]\n     choice = st.sidebar.selectbox(\"Menu\", menu)\n \n     if choice == \"Create PDF\":\n @@ -223,18 +211,5 @@ def main():\n                 mime=\"application/pdf\"\n             )\n \n     elif choice == \"Extract Images\":\n         st.subheader(\"Extract Images from PDF\")\n         pdf_file = st.file_uploader(\"Upload PDF\", type=\"pdf\")\n         if st.button(\"Extract Images\"):\n             images = extract_images(pdf_file)\n             for i, img in enumerate(images):\n                 st.download_button(\n                     label=f\"Download Image {i+1}\",\n                     data=img,\n                     file_name=f\"image_{i+1}.png\",\n                     mime=\"image/png\"\n                 )\n \n if __name__ == '__main__':\n     main()",
   "execution_count": null
  },
  {
   "cell_type": "code",
   "id": "7482a161-bd2a-4188-af9a-ca934b836331",
   "metadata": {
    "language": "python",
    "name": "Support_Ticket"
   },
   "outputs": [],
   "source": "import streamlit as st\nimport numpy as np\nimport pandas as pd\nimport altair as alt\nfrom datetime import datetime, timedelta\n\n# Page title\nst.set_page_config(page_title='Support Ticket Workflow', page_icon='🎫')\nst.title('🎫 Support Ticket Workflow')\nst.info('To write a ticket, fill out the form below. Check status or review ticketing analytics using the tabs below.')\n\n\n# Generate data\n## Set seed for reproducibility\nnp.random.seed(42)\n\n## Function to generate a random issue description\ndef generate_issue():\n    issues = [\n        \"Network connectivity issues in the office\",\n        \"Software application crashing on startup\",\n        \"Printer not responding to print commands\",\n        \"Email server downtime\",\n        \"Data backup failure\",\n        \"Login authentication problems\",\n        \"Website performance degradation\",\n        \"Security vulnerability identified\",\n        \"Hardware malfunction in the server room\",\n        \"Employee unable to access shared files\",\n        \"Database connection failure\",\n        \"Mobile application not syncing data\",\n        \"VoIP phone system issues\",\n        \"VPN connection problems for remote employees\",\n        \"System updates causing compatibility issues\",\n        \"File server running out of storage space\",\n        \"Intrusion detection system alerts\",\n        \"Inventory management system errors\",\n        \"Customer data not loading in CRM\",\n        \"Collaboration tool not sending notifications\"\n    ]\n    return np.random.choice(issues)\n\n## Function to generate random dates\nstart_date = datetime(2025, 1, 1)\nend_date = datetime(2025, 3, 20)\nid_values = ['TICKET-{}'.format(i) for i in range(0, 100)]\nissue_list = [generate_issue() for _ in range(100)]\n\ndef generate_random_dates(start_date, end_date, id_values):\n    date_range = pd.date_range(start_date, end_date).strftime('%m-%d-%Y')\n    return np.random.choice(date_range, size=len(id_values), replace=False)\n\n## Generate 100 rows of data\ndata = {'Issue': issue_list,\n        'Status': np.random.choice(['Open', 'In Progress', 'Closed'], size=100),\n        'Priority': np.random.choice(['High', 'Medium', 'Low'], size=100),\n        'Date Submitted': generate_random_dates(start_date, end_date, id_values)\n    }\ndf = pd.DataFrame(data)\ndf.insert(0, 'ID', id_values)\ndf = df.sort_values(by=['Status', 'ID'], ascending=[False, False])\n\n## Create DataFrame\nif 'df' not in st.session_state:\n    st.session_state.df = df\n\n# Sort dataframe\ndef sort_df():\n    st.session_state.df = edited_df.copy().sort_values(by=['Status', 'ID'], ascending=[False, False])\n\n\n# Tabs for app layout\ntabs = st.tabs(['Write a ticket', 'Ticket Status and Analytics'])\n\nrecent_ticket_number = int(max(st.session_state.df.ID).split('-')[1])\n\nwith tabs[0]:\n  with st.form('addition'):\n    issue = st.text_area('Description of issue')\n    priority = st.selectbox('Priority', ['High', 'Medium', 'Low'])\n    submit = st.form_submit_button('Submit')\n\n  if submit:\n      today_date = datetime.now().strftime('%m-%d-%Y')\n      df2 = pd.DataFrame([{'ID': f'TICKET-{recent_ticket_number+1}',\n                           'Issue': issue,\n                           'Status': 'Open',\n                           'Priority': priority,\n                           'Date Submitted': today_date\n                          }])\n      st.write('Ticket submitted!')\n      st.dataframe(df2, use_container_width=True, hide_index=True)\n      st.session_state.df = pd.concat([st.session_state.df, df2], axis=0).sort_values(by=['Status', 'ID'], ascending=[False, False])\n\nwith tabs[1]:\n  status_col = st.columns((3,1))\n  with status_col[0]:\n      st.subheader('Support Ticket Status')\n  with status_col[1]:\n      st.write(f'No. of tickets: `{len(st.session_state.df)}`')\n\n  st.markdown('**Things to try:**')\n  st.info('1️⃣ Update Ticket **Status** or **Priority** and see how plots are updated in real-time!')\n  st.success('2️⃣ Change values in **Status** column from *\"Open\"* to either *\"In Progress\"* or *\"Closed\"*, then click on the **Sort DataFrame by the Status column** button to see the refreshed DataFrame with the sorted **Status** column.')\n\n  edited_df = st.data_editor(st.session_state.df, use_container_width=True, hide_index=True, height=212,\n                column_config={'Status': st.column_config.SelectboxColumn(\n                                            'Status',\n                                            help='Ticket status',\n                                            options=[\n                                                'Open',\n                                                'In Progress',\n                                                'Closed'\n                                            ],\n                                            required=True,\n                                            ),\n                               'Priority': st.column_config.SelectboxColumn(\n                                           'Priority',\n                                            help='Priority',\n                                            options=[\n                                                'High',\n                                                'Medium',\n                                                'Low'\n                                            ],\n                                            required=True,\n                                            ),\n                             })\n  st.button('🔄 Sort DataFrame by the Status column', on_click=sort_df)\n  \n  # Status plot\n  st.subheader('Support Ticket Analytics')\n  col = st.columns((1,3,1))\n    \n  with col[0]:\n      n_tickets_queue = len(st.session_state.df[st.session_state.df.Status=='Open'])\n      \n      st.metric(label='First response time (hr)', value=5.2, delta=-1.5)\n      st.metric(label='No. of tickets in the queue', value=n_tickets_queue, delta='')\n      st.metric(label='Avg. ticket resolution time (hr)', value=16, delta='')\n      \n  with col[1]:\n      status_plot = alt.Chart(edited_df).mark_bar().encode(\n          x='month(Date Submitted):O',\n          y='count():Q',\n          xOffset='Status:N',\n          color = 'Status:N'\n      ).properties(title='Ticket status in the past 6 months', height=300).configure_legend(orient='bottom', titleFontSize=14, labelFontSize=14, titlePadding=5)\n      st.altair_chart(status_plot, use_container_width=True, theme='streamlit')\n      \n  with col[2]:\n      priority_plot = alt.Chart(edited_df).mark_arc().encode(\n                          theta=\"count():Q\",\n                          color=\"Priority:N\"\n                      ).properties(title='Current ticket priority', height=300).configure_legend(orient='bottom', titleFontSize=14, labelFontSize=14, titlePadding=5)\n      st.altair_chart(priority_plot, use_container_width=True, theme='streamlit')",
   "execution_count": null
  }
 ]
}